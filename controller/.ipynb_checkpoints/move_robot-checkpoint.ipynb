{
 "cells": [
  {
   "cell_type": "code",
   "execution_count": 1,
   "metadata": {},
   "outputs": [],
   "source": [
    "#!/usr/bin/env python3\n",
    "import rospy\n",
    "from trajectory_msgs.msg import JointTrajectory, JointTrajectoryPoint\n",
    "import numpy as np\n",
    "from robot_state import *\n",
    "import time\n",
    "\n",
    "robot = RobotController()\n"
   ]
  },
  {
   "cell_type": "markdown",
   "metadata": {},
   "source": [
    "Open Gripper\n"
   ]
  },
  {
   "cell_type": "code",
   "execution_count": 2,
   "metadata": {},
   "outputs": [
    {
     "name": "stdout",
     "output_type": "stream",
     "text": [
      "(0.039828475564718246, 0.039828475564718246)\n"
     ]
    }
   ],
   "source": [
    "robot.exec_gripper_cmd(0.06)\n",
    "print(robot.gripper_state())"
   ]
  },
  {
   "cell_type": "markdown",
   "metadata": {},
   "source": [
    "Close gripper"
   ]
  },
  {
   "cell_type": "code",
   "execution_count": 21,
   "metadata": {},
   "outputs": [],
   "source": [
    "robot.grasp(0.032, 15)"
   ]
  },
  {
   "cell_type": "markdown",
   "metadata": {},
   "source": [
    "Initial Pose"
   ]
  },
  {
   "cell_type": "code",
   "execution_count": 2,
   "metadata": {},
   "outputs": [],
   "source": [
    "# robot.initial_pose()\n",
    "# angles = [0, -0.785398163, 0, -2.35619449, 0, 1.57079632679, 0.785398163397]\n"
   ]
  },
  {
   "cell_type": "markdown",
   "metadata": {},
   "source": [
    "# Forward Kinematics"
   ]
  },
  {
   "cell_type": "code",
   "execution_count": 44,
   "metadata": {},
   "outputs": [],
   "source": [
    "angles = [0.05415077394146999, -0.06999536879369829, 0.025047756366318442, -2.0467223351719332, 0.006527885864619271, 1.9560050275723249, 2.4006788392637186]\n",
    "\n",
    "robot.move_to_joint_position(angles)"
   ]
  },
  {
   "cell_type": "markdown",
   "metadata": {},
   "source": [
    "# Inverse Kinematics"
   ]
  },
  {
   "cell_type": "code",
   "execution_count": null,
   "metadata": {},
   "outputs": [],
   "source": [
    "\n",
    "# pos = np.array([0.25 , 0.24 , 0.22])\n",
    "\n",
    "# orientation_quat = np.array([np.pi, -np.pi/2, 0, 0], dtype=np.float64)\n",
    "\n",
    "# sol = robot.solve_kinematics(pos , orientation_quat)\n",
    "\n",
    "# print(sol)\n",
    "\n",
    "# robot.move_to_joint_position(sol)\n",
    "\n"
   ]
  },
  {
   "cell_type": "code",
   "execution_count": 42,
   "metadata": {},
   "outputs": [
    {
     "data": {
      "text/plain": [
       "[-0.004143706342015588,\n",
       " 0.6319870625433247,\n",
       " 0.022140313245992523,\n",
       " -1.7762755892709392,\n",
       " 0.0011012171395808864,\n",
       " 2.3852635478520408,\n",
       " 2.329719664768369]"
      ]
     },
     "execution_count": 42,
     "metadata": {},
     "output_type": "execute_result"
    }
   ],
   "source": [
    "robot.angles()"
   ]
  },
  {
   "cell_type": "code",
   "execution_count": null,
   "metadata": {},
   "outputs": [],
   "source": []
  }
 ],
 "metadata": {
  "kernelspec": {
   "display_name": "Python 3 (ipykernel)",
   "language": "python",
   "name": "python3"
  },
  "language_info": {
   "codemirror_mode": {
    "name": "ipython",
    "version": 3
   },
   "file_extension": ".py",
   "mimetype": "text/x-python",
   "name": "python",
   "nbconvert_exporter": "python",
   "pygments_lexer": "ipython3",
   "version": "3.10.16"
  }
 },
 "nbformat": 4,
 "nbformat_minor": 4
}
